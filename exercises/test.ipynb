{
 "cells": [
  {
   "cell_type": "code",
   "execution_count": 1,
   "metadata": {},
   "outputs": [
    {
     "name": "stdout",
     "output_type": "stream",
     "text": [
      "<iXX, iXX> = (4+0j)\n",
      "<iXX, iYY> = 0j\n",
      "<iXX, iZZ> = 0j\n",
      "<iYY, iYY> = (4+0j)\n",
      "<iYY, iZZ> = 0j\n",
      "<iZZ, iZZ> = (4+0j)\n"
     ]
    }
   ],
   "source": [
    "import numpy as np\n",
    "\n",
    "# Define Pauli matrices (2x2)\n",
    "X = np.array([[0, 1],\n",
    "              [1, 0]], dtype=complex)\n",
    "Y = np.array([[0, -1j],\n",
    "              [1j, 0]], dtype=complex)\n",
    "Z = np.array([[1, 0],\n",
    "              [0, -1]], dtype=complex)\n",
    "\n",
    "# Construct tensor product matrices and multiply by i\n",
    "iXX = 1j * np.kron(X, X)\n",
    "iYY = 1j * np.kron(Y, Y)\n",
    "iZZ = 1j * np.kron(Z, Z)\n",
    "\n",
    "# Function to compute the Hilbert-Schmidt inner product <A, B> = Tr(A^dagger B)\n",
    "def hs_inner(A, B):\n",
    "    return np.trace(np.conjugate(A.T) @ B)\n",
    "\n",
    "# Compute the inner products\n",
    "print(\"<iXX, iXX> =\", hs_inner(iXX, iXX))\n",
    "print(\"<iXX, iYY> =\", hs_inner(iXX, iYY))\n",
    "print(\"<iXX, iZZ> =\", hs_inner(iXX, iZZ))\n",
    "print(\"<iYY, iYY> =\", hs_inner(iYY, iYY))\n",
    "print(\"<iYY, iZZ> =\", hs_inner(iYY, iZZ))\n",
    "print(\"<iZZ, iZZ> =\", hs_inner(iZZ, iZZ))\n"
   ]
  },
  {
   "cell_type": "code",
   "execution_count": 2,
   "metadata": {},
   "outputs": [
    {
     "name": "stdout",
     "output_type": "stream",
     "text": [
      "Original Matrix A:\n",
      " [[ 0.42355798 -0.25100407 -0.38708598]\n",
      " [-1.27076764  0.68370485  1.68913668]\n",
      " [-1.38849281  1.68313778 -0.64058155]\n",
      " [ 0.39789637  2.05612316  0.35615391]]\n",
      "Reconstructed Matrix A_reconstructed:\n",
      " [[ 0.42355798 -0.25100407 -0.38708598]\n",
      " [-1.27076764  0.68370485  1.68913668]\n",
      " [-1.38849281  1.68313778 -0.64058155]\n",
      " [ 0.39789637  2.05612316  0.35615391]]\n"
     ]
    }
   ],
   "source": [
    "# test svd \n",
    "import numpy as np\n",
    "# Create a random matrix A (for example, 4x3)\n",
    "A = np.random.randn(4, 3)\n",
    "\n",
    "# Compute the singular value decomposition of A\n",
    "U, S, Vh = np.linalg.svd(A, full_matrices=False)\n",
    "\n",
    "# Verify the decomposition: A should be equal to U * diag(S) * Vh\n",
    "Sigma = np.diag(S)\n",
    "A_reconstructed = U @ Sigma @ Vh\n",
    "\n",
    "print(\"Original Matrix A:\\n\", A)\n",
    "print(\"Reconstructed Matrix A_reconstructed:\\n\", A_reconstructed)\n"
   ]
  },
  {
   "cell_type": "code",
   "execution_count": 1,
   "metadata": {},
   "outputs": [
    {
     "name": "stdout",
     "output_type": "stream",
     "text": [
      "Shape of U (after SVD): (4, 4)\n",
      "Shape of first site tensor: (2, 2, 4)\n"
     ]
    }
   ],
   "source": [
    "import numpy as np\n",
    "\n",
    "# Suppose N is given (for example, N=4)\n",
    "N = 4\n",
    "\n",
    "# Create a random tensor T with shape (2,)*2N\n",
    "T = np.random.rand(*(2 for _ in range(2 * N)))\n",
    "\n",
    "# Step 1: Permute axes so that index 0 and index N become the first two indices.\n",
    "# Original order: [0, 1, 2, ..., N-1, N, N+1, ..., 2N-1]\n",
    "# Desired order: [0, N, 1, 2, ..., N-1, N+1, ..., 2N-1]\n",
    "axes_order = [0, N] + [i for i in range(1, 2 * N) if i != N]\n",
    "T_perm = T.transpose(axes_order)\n",
    "\n",
    "# Step 2: Reshape the tensor into a matrix.\n",
    "# The first two dimensions are grouped together: new row dimension = 2*2 = 4.\n",
    "# The remaining dimensions form the column dimension: 2**(2N - 2).\n",
    "row_dim = 2 * 2\n",
    "col_dim = 2 ** (2 * N - 2)\n",
    "T_matrix = T_perm.reshape(row_dim, col_dim)\n",
    "\n",
    "# Step 3: Perform the SVD on the reshaped matrix.\n",
    "U, S, Vh = np.linalg.svd(T_matrix, full_matrices=False)\n",
    "\n",
    "# Now, U contains the left part of the SVD.\n",
    "# To interpret U as the first site tensor of an MPO, you might want to reshape it.\n",
    "# For example, if you expect the site tensor to have shape (physical_in, physical_out, bond_dim),\n",
    "# you could reshape U as needed. Here we reshape U to (2, 2, -1) assuming that grouping the two physical indices is desired.\n",
    "first_site_tensor = U.reshape(2, 2, -1)\n",
    "\n",
    "print(\"Shape of U (after SVD):\", U.shape)\n",
    "print(\"Shape of first site tensor:\", first_site_tensor.shape)"
   ]
  },
  {
   "cell_type": "code",
   "execution_count": 3,
   "metadata": {},
   "outputs": [
    {
     "name": "stdout",
     "output_type": "stream",
     "text": [
      "Random 4x4 unitary U:\n",
      "[[ 0.33702837-0.08624403j  0.29722202-0.41342211j  0.09996544+0.41734901j\n",
      "  -0.4920394 -0.43981703j]\n",
      " [ 0.19624253-0.13917188j -0.32304204-0.39499876j -0.74213455-0.34467132j\n",
      "  -0.07630969-0.07971634j]\n",
      " [-0.24597709-0.09034285j -0.19974883+0.48194847j  0.05623441-0.35709071j\n",
      "  -0.48837538-0.53849134j]\n",
      " [-0.30712198+0.81123574j -0.34761775-0.2955487j   0.0435592 +0.11700945j\n",
      "  -0.12354419-0.09237827j]]\n",
      "\n",
      "Decomposition parameters (a, b, c):\n",
      "0.5443742687290278 0.36197534561046224 0.024278736087296693\n",
      "\n",
      "Global phase (in radians):\n",
      "-0.2726686981455577\n",
      "\n",
      "Reconstruction check (True means success): True\n"
     ]
    }
   ],
   "source": [
    "import numpy as np\n",
    "from scipy.linalg import expm, norm\n",
    "from qiskit.synthesis import TwoQubitWeylDecomposition\n",
    "\n",
    "# Helper function: Generate a random unitary matrix using QR decomposition.\n",
    "def random_unitary(n):\n",
    "    X = np.random.randn(n, n) + 1j * np.random.randn(n, n)\n",
    "    Q, R = np.linalg.qr(X)\n",
    "    # Normalize phases so that the diagonal of R has positive entries\n",
    "    d = np.diag(R)\n",
    "    Q = Q * np.exp(-1j * np.angle(d))\n",
    "    return Q\n",
    "\n",
    "# Define the 2x2 Pauli matrices.\n",
    "X = np.array([[0, 1],\n",
    "              [1, 0]])\n",
    "Y = np.array([[0, -1j],\n",
    "              [1j, 0]])\n",
    "Z = np.array([[1, 0],\n",
    "              [0, -1]])\n",
    "\n",
    "# Create the two-qubit Pauli operators (Kronecker products).\n",
    "XX = np.kron(X, X)\n",
    "YY = np.kron(Y, Y)\n",
    "ZZ = np.kron(Z, Z)\n",
    "\n",
    "# Generate a random 4x4 unitary.\n",
    "U = random_unitary(4)\n",
    "\n",
    "# Decompose U using TwoQubitWeylDecomposition.\n",
    "decomp = TwoQubitWeylDecomposition(U)\n",
    "\n",
    "# Retrieve the decomposition parameters and local unitaries.\n",
    "a = decomp.a\n",
    "b = decomp.b\n",
    "c = decomp.c\n",
    "K1l = decomp.K1l\n",
    "K1r = decomp.K1r\n",
    "K2l = decomp.K2l\n",
    "K2r = decomp.K2r\n",
    "global_phase = decomp.global_phase  # This is an overall phase factor\n",
    "\n",
    "# Compute the nonlocal part: exp[i*(a*XX + b*YY + c*ZZ)].\n",
    "nonlocal_op = expm(1j * (a * XX + b * YY + c * ZZ))\n",
    "\n",
    "# Reconstruct U: Note that the full decomposition is given up to a global phase.\n",
    "U_reconstructed = np.kron(K1l, K1r) @ nonlocal_op @ np.kron(K2l, K2r)\n",
    "\n",
    "# Adjust the reconstructed unitary by the extracted global phase.\n",
    "U_reconstructed *= np.exp(1j * global_phase)\n",
    "\n",
    "# Check the reconstruction: two unitaries are equivalent if they differ only by a global phase.\n",
    "# One method is to compare the matrices up to a phase factor.\n",
    "def unitary_equal_up_to_global_phase(U1, U2, atol=1e-10):\n",
    "    # Compute relative phase using the (0,0) element (if nonzero)\n",
    "    phase = U1[0,0] / U2[0,0] if np.abs(U2[0,0]) > atol else 1.0\n",
    "    return np.allclose(U1, phase * U2, atol=atol)\n",
    "\n",
    "reconstruction_ok = unitary_equal_up_to_global_phase(U, U_reconstructed)\n",
    "\n",
    "# Print the results.\n",
    "print(\"Random 4x4 unitary U:\")\n",
    "print(U)\n",
    "print(\"\\nDecomposition parameters (a, b, c):\")\n",
    "print(a, b, c)\n",
    "print(\"\\nGlobal phase (in radians):\")\n",
    "print(global_phase)\n",
    "print(\"\\nReconstruction check (True means success):\", reconstruction_ok)\n"
   ]
  }
 ],
 "metadata": {
  "kernelspec": {
   "display_name": "rqcopt",
   "language": "python",
   "name": "python3"
  },
  "language_info": {
   "codemirror_mode": {
    "name": "ipython",
    "version": 3
   },
   "file_extension": ".py",
   "mimetype": "text/x-python",
   "name": "python",
   "nbconvert_exporter": "python",
   "pygments_lexer": "ipython3",
   "version": "3.10.12"
  },
  "orig_nbformat": 4
 },
 "nbformat": 4,
 "nbformat_minor": 2
}
