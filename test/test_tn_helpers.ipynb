{
 "cells": [
  {
   "cell_type": "code",
   "execution_count": null,
   "metadata": {},
   "outputs": [],
   "source": [
    "# TODO: left to right QR canonicalize test.\n",
    "# reason: it seems that normalization is not absorbed if 'normalize' set to true. \n",
    "# snippet:\n",
    "    # # Normalize\n",
    "    # if normalize: mpo_res[-1] = Q.reshape(shape[:-1]+(Q.shape[-1],))\n",
    "    # else: mpo_res[-1] = Q.reshape(shape[:-1]+(Q.shape[-1],)) * R.reshape(-1)[0]  # Absorb normalization\n",
    "    \n",
    "    # if get_norm: return mpo_res, nrm.real\n",
    "    # else: return mpo_res\n",
    "\n",
    "\n",
    "# TODO: check err_threshold of reference mpo when it was build (see save_model.py). \n",
    "    # I am curious whether the error of the MPO expression: (MPO reference - Trotterization) is lower than the loss error of the optimization (Opt circuit - MPO approximation) \n",
    "\n",
    "# TODO: ask Isabel how she deals with local interactions due to field h, given that in the brickwall circuit construction, h is built in the pairs.\n",
    "    # snippet from spin_systems:\n",
    "    # hs_middle_odd = jnp.asarray([h[pair] for pair in odd_pairs[1:-1]])\n",
    "    # hs_middle_even = jnp.asarray([h[pair] for pair in even_pairs])\n",
    "\n",
    "\n",
    "# TODO: in tn_brickwall_methods.py, when starting merging in compute_full_gradient:\n",
    "# we start merging from right to left, because reference is left canonicalized.\n",
    "# Question: is it essential, that the reference is left canonicalized? during merging, this should not be necessary. \n"
   ]
  },
  {
   "cell_type": "code",
   "execution_count": null,
   "metadata": {},
   "outputs": [],
   "source": []
  }
 ],
 "metadata": {
  "language_info": {
   "name": "python"
  },
  "orig_nbformat": 4
 },
 "nbformat": 4,
 "nbformat_minor": 2
}
